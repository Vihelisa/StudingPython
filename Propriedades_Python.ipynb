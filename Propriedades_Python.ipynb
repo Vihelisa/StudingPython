{
  "nbformat": 4,
  "nbformat_minor": 0,
  "metadata": {
    "colab": {
      "name": "Propriedades_Python.ipynb",
      "provenance": [],
      "authorship_tag": "ABX9TyOb3tFzQy60VT9Vu/qCxXLR",
      "include_colab_link": true
    },
    "kernelspec": {
      "name": "python3",
      "display_name": "Python 3"
    }
  },
  "cells": [
    {
      "cell_type": "markdown",
      "metadata": {
        "id": "view-in-github",
        "colab_type": "text"
      },
      "source": [
        "<a href=\"https://colab.research.google.com/github/Vihelisa/StudingPython/blob/main/Propriedades_Python.ipynb\" target=\"_parent\"><img src=\"https://colab.research.google.com/assets/colab-badge.svg\" alt=\"Open In Colab\"/></a>"
      ]
    },
    {
      "cell_type": "markdown",
      "metadata": {
        "id": "w5o7bOVWoCgT"
      },
      "source": [
        "Propriedades da programação Python\r\n"
      ]
    },
    {
      "cell_type": "code",
      "metadata": {
        "id": "vRkMx5G7Ex1K"
      },
      "source": [
        "dir(\"Geek\")\r\n"
      ],
      "execution_count": null,
      "outputs": []
    },
    {
      "cell_type": "code",
      "metadata": {
        "id": "4dqWxVUvE76d"
      },
      "source": [
        "help(\"Geek\".lower)\r\n"
      ],
      "execution_count": null,
      "outputs": []
    },
    {
      "cell_type": "code",
      "metadata": {
        "id": "nOo8gfDWhfN_"
      },
      "source": [
        "\"Geek\".lower()\r\n"
      ],
      "execution_count": null,
      "outputs": []
    },
    {
      "cell_type": "code",
      "metadata": {
        "id": "S7bmq2phkXhg"
      },
      "source": [
        "\"Univercity\".upper()\r\n"
      ],
      "execution_count": null,
      "outputs": []
    },
    {
      "cell_type": "code",
      "metadata": {
        "colab": {
          "base_uri": "https://localhost:8080/",
          "height": 35
        },
        "id": "4PR6p_AelEWi",
        "outputId": "f6d4dada-fcb7-4834-de3c-4c0ebb4b12a5"
      },
      "source": [
        "\"vitória elisa fernandes\".title()\r\n"
      ],
      "execution_count": null,
      "outputs": [
        {
          "output_type": "execute_result",
          "data": {
            "application/vnd.google.colaboratory.intrinsic+json": {
              "type": "string"
            },
            "text/plain": [
              "'Vitória Elisa Fernandes'"
            ]
          },
          "metadata": {
            "tags": []
          },
          "execution_count": 11
        }
      ]
    },
    {
      "cell_type": "code",
      "metadata": {
        "id": "TCsNy9Mmn2vI"
      },
      "source": [
        "print(dir(\"geek\"))\r\n"
      ],
      "execution_count": null,
      "outputs": []
    }
  ]
}
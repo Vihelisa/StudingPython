{
  "nbformat": 4,
  "nbformat_minor": 0,
  "metadata": {
    "colab": {
      "name": "Conversões_de_BasesNumericas_Python",
      "provenance": [],
      "authorship_tag": "ABX9TyNqTEGbfzMZTFFl62oRlU4N",
      "include_colab_link": true
    },
    "kernelspec": {
      "name": "python3",
      "display_name": "Python 3"
    }
  },
  "cells": [
    {
      "cell_type": "markdown",
      "metadata": {
        "id": "view-in-github",
        "colab_type": "text"
      },
      "source": [
        "<a href=\"https://colab.research.google.com/github/Vihelisa/StudingPython/blob/main/Convers%C3%B5es_de_BasesNumericas_Python.ipynb\" target=\"_parent\"><img src=\"https://colab.research.google.com/assets/colab-badge.svg\" alt=\"Open In Colab\"/></a>"
      ]
    },
    {
      "cell_type": "code",
      "metadata": {
        "id": "RGAv0caZ_uDP",
        "colab": {
          "base_uri": "https://localhost:8080/"
        },
        "outputId": "f5646151-f302-4554-b79a-82b823bc6b7b"
      },
      "source": [
        "num = int(input('Digite um número inteiro'))\r\n",
        "print('''Escolha uma opção:\r\n",
        "[1] Converter para BINÁRIO\r\n",
        "[2] converter para OCTAL\r\n",
        "[3] Converter para Hexadecimal''')\r\n",
        "opção = int(input('Sua opção: '))\r\n",
        "if opção == 1:\r\n",
        "  print('{} convertido para BINÁRIO é igual a {}'.format(num, bin(num)[2:]))\r\n",
        "elif opção == 2:\r\n",
        "  print('{} convertido para OCTAL é igual a {}'.format(num, oct(num)[2:]))\r\n",
        "elif opção == 3:\r\n",
        "  print('{} convertido para HEXADECIMAL é igual a {}'.format(num, hex(num)[2:]))\r\n",
        "else:\r\n",
        "  print('Opção invalida !!! Digite novamente')\r\n"
      ],
      "execution_count": 2,
      "outputs": [
        {
          "output_type": "stream",
          "text": [
            "Digite um número inteiro20\n",
            "Escolha uma opção:\n",
            "[1] Converter para BINÁRIO\n",
            "[2] converter para OCTAL\n",
            "[3] Converter para Hexadecimal\n",
            "Sua opção: 3\n",
            "20 convertido para HEXADECIMAL é igual a 14\n"
          ],
          "name": "stdout"
        }
      ]
    },
    {
      "cell_type": "code",
      "metadata": {
        "colab": {
          "base_uri": "https://localhost:8080/"
        },
        "id": "2-ghlJU9SkXo",
        "outputId": "887f7c43-9fe7-4010-f5b8-eea5235182cb"
      },
      "source": [
        "NH = input('Put the floating hexadecimal namber:')\r\n",
        "print(NH)\r\n",
        "\r\n",
        "frente, tras = NH.split('.')\r\n",
        "print(frente, tras)\r\n",
        "\r\n",
        "convert_frente = str(int(frente, 16))\r\n",
        "print(convert_frente)\r\n",
        "\r\n",
        "dec = str(int(tras, 16))\r\n",
        "print(dec)\r\n",
        "\r\n",
        "SOME = convert_frente + \".\" + dec\r\n",
        "print(SOME)\r\n"
      ],
      "execution_count": 40,
      "outputs": [
        {
          "output_type": "stream",
          "text": [
            "Put the floating hexadecimal namber:46.2b\n",
            "46.2b\n",
            "46 2b\n",
            "70\n",
            "43\n",
            "70.43\n"
          ],
          "name": "stdout"
        }
      ]
    },
    {
      "cell_type": "code",
      "metadata": {
        "colab": {
          "base_uri": "https://localhost:8080/"
        },
        "id": "o8O8pksH4deX",
        "outputId": "19f7b9b6-d043-4f91-c732-54759bfd45f2"
      },
      "source": [
        "def convert(hexT, hexU):\r\n",
        "  separarT, separarU = [hexT.split('.'), hexU.split('.')]\r\n",
        "  separar_frenteT = str(int(separarT[0], 16)) \r\n",
        "  separar_trasT = str(int(separarT[1], 16)) \r\n",
        "  separar_frenteU = str(int(separarU[0], 16)) \r\n",
        "  separar_trasU = str(int(separarU[1], 16)) \r\n",
        "  TEMP = separar_frenteT + '.' + separar_trasT\r\n",
        "  UMI = separar_frenteU + '.' + separar_trasU \r\n",
        "  T_U = [TEMP, UMI]\r\n",
        "  return T_U\r\n",
        "\r\n",
        "Temperatura = input('Digite a temperatura:')\r\n",
        "Umidade = input('Digite a umidade:')\r\n",
        "Dado_TU = convert(Temperatura, Umidade)\r\n",
        "print(Dado_TU)"
      ],
      "execution_count": 43,
      "outputs": [
        {
          "output_type": "stream",
          "text": [
            "Digite a temperatura:16.c\n",
            "Digite a umidade:56.d\n",
            "['22.12', '86.13']\n"
          ],
          "name": "stdout"
        }
      ]
    },
    {
      "cell_type": "code",
      "metadata": {
        "id": "26wFS1LY7zKi"
      },
      "source": [
        ""
      ],
      "execution_count": null,
      "outputs": []
    }
  ]
}
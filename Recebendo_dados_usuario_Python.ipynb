{
  "nbformat": 4,
  "nbformat_minor": 0,
  "metadata": {
    "colab": {
      "name": "Recebendo_dados_usuario_Python.ipynb",
      "provenance": [],
      "collapsed_sections": [],
      "authorship_tag": "ABX9TyONK0vdawqKE9UWCBZzIS+d",
      "include_colab_link": true
    },
    "kernelspec": {
      "name": "python3",
      "display_name": "Python 3"
    }
  },
  "cells": [
    {
      "cell_type": "markdown",
      "metadata": {
        "id": "view-in-github",
        "colab_type": "text"
      },
      "source": [
        "<a href=\"https://colab.research.google.com/github/Vihelisa/StudingPython/blob/main/Recebendo_dados_usuario_Python.ipynb\" target=\"_parent\"><img src=\"https://colab.research.google.com/assets/colab-badge.svg\" alt=\"Open In Colab\"/></a>"
      ]
    },
    {
      "cell_type": "code",
      "metadata": {
        "colab": {
          "base_uri": "https://localhost:8080/"
        },
        "id": "pPK5rdu8iHQN",
        "outputId": "93d43528-d1a5-420c-9d5e-4e59008874f7"
      },
      "source": [
        "print (\"Qual seu nome?\")\r\n",
        "nome = input()\r\n",
        "\r\n",
        "print(\"seja bem-vindo(a) %s\" %nome)\r\n",
        "\r\n",
        "print(\"Qual sua idade?\")\r\n",
        "idade = input()\r\n",
        "\r\n",
        "print(\"%s tem %s anos\" % (nome, idade))"
      ],
      "execution_count": null,
      "outputs": [
        {
          "output_type": "stream",
          "text": [
            "Qual seu nome?\n",
            "Vitória Elisa Fernandes\n",
            "seja bem-vindo(a) Vitória Elisa Fernandes\n",
            "Qual sua idade?\n",
            "19\n",
            "Vitória Elisa Fernandes tem 19 anos\n"
          ],
          "name": "stdout"
        }
      ]
    },
    {
      "cell_type": "code",
      "metadata": {
        "id": "JafuB5rQiiFr"
      },
      "source": [
        ""
      ],
      "execution_count": null,
      "outputs": []
    }
  ]
}
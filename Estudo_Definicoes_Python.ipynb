{
  "nbformat": 4,
  "nbformat_minor": 0,
  "metadata": {
    "colab": {
      "name": "Estudo_Definicoes_Python",
      "provenance": [],
      "authorship_tag": "ABX9TyNFDidrEDdWiB0o8QfyN4HQ",
      "include_colab_link": true
    },
    "kernelspec": {
      "name": "python3",
      "display_name": "Python 3"
    }
  },
  "cells": [
    {
      "cell_type": "markdown",
      "metadata": {
        "id": "view-in-github",
        "colab_type": "text"
      },
      "source": [
        "<a href=\"https://colab.research.google.com/github/Vihelisa/StudingPython/blob/main/Estudo_Definicoes_Python.ipynb\" target=\"_parent\"><img src=\"https://colab.research.google.com/assets/colab-badge.svg\" alt=\"Open In Colab\"/></a>"
      ]
    },
    {
      "cell_type": "markdown",
      "metadata": {
        "id": "VPWL-3GAyXSU"
      },
      "source": [
        "TESTANDO UMA FUNÇÃO"
      ]
    },
    {
      "cell_type": "code",
      "metadata": {
        "colab": {
          "base_uri": "https://localhost:8080/"
        },
        "id": "ROp93qk3vWqw",
        "outputId": "40e73ec2-9f2a-4071-da21-d41346f4d7a6"
      },
      "source": [
        "def lin():\r\n",
        "  print('-' * 30)\r\n",
        "\r\n",
        "\r\n",
        "lin()\r\n",
        "print('Olá mundo')\r\n",
        "lin()\r\n",
        "print('Hello world')\r\n",
        "lin()"
      ],
      "execution_count": null,
      "outputs": [
        {
          "output_type": "stream",
          "text": [
            "------------------------------\n",
            "Olá mundo\n",
            "------------------------------\n",
            "Hello world\n",
            "------------------------------\n"
          ],
          "name": "stdout"
        }
      ]
    },
    {
      "cell_type": "markdown",
      "metadata": {
        "id": "is84CT9wybkK"
      },
      "source": [
        "LIN 2.0"
      ]
    },
    {
      "cell_type": "code",
      "metadata": {
        "colab": {
          "base_uri": "https://localhost:8080/"
        },
        "id": "Vn6Jt2DMy0W0",
        "outputId": "c5a9f9f3-e33a-4e4a-c936-2c46adcb942c"
      },
      "source": [
        "def mensagem(msg):\r\n",
        "  print('-' * 30)\r\n",
        "  print(msg)\r\n",
        "  print('-' * 30)\r\n",
        "\r\n",
        "mensagem('HELLO WORLD')\r\n",
        "mensagem('OLÁ MUNDO!!')\r\n",
        "mensagem('ACABA CORONA')"
      ],
      "execution_count": null,
      "outputs": [
        {
          "output_type": "stream",
          "text": [
            "------------------------------\n",
            "HELLO WORLD\n",
            "------------------------------\n",
            "------------------------------\n",
            "OLÁ MUNDO!!\n",
            "------------------------------\n",
            "------------------------------\n",
            "ACABA CORONA\n",
            "------------------------------\n"
          ],
          "name": "stdout"
        }
      ]
    },
    {
      "cell_type": "markdown",
      "metadata": {
        "id": "i2iyMGxn4U9L"
      },
      "source": [
        "SOMA 1"
      ]
    },
    {
      "cell_type": "code",
      "metadata": {
        "colab": {
          "base_uri": "https://localhost:8080/"
        },
        "id": "GBsEocWb1b5n",
        "outputId": "743b89ce-d748-4b37-8808-fd407ebafb6a"
      },
      "source": [
        "def soma(a, b):\r\n",
        "  resultado = a + b\r\n",
        "  print(resultado)\r\n",
        "\r\n",
        "soma(1, 2)\r\n",
        "soma(3, 5)\r\n",
        "soma(8, 9)\r\n"
      ],
      "execution_count": null,
      "outputs": [
        {
          "output_type": "stream",
          "text": [
            "3\n",
            "8\n",
            "17\n"
          ],
          "name": "stdout"
        }
      ]
    },
    {
      "cell_type": "markdown",
      "metadata": {
        "id": "L8RHmUd84XAh"
      },
      "source": [
        "SOMA 2"
      ]
    },
    {
      "cell_type": "code",
      "metadata": {
        "colab": {
          "base_uri": "https://localhost:8080/"
        },
        "id": "_p1osYnb4aXi",
        "outputId": "96195ba4-9a58-4867-c338-57fcd04db0cf"
      },
      "source": [
        "def SOMA(a, b):\r\n",
        "  print(f'A = {a} e B = {b}')\r\n",
        "  s = a + b\r\n",
        "  print(f'A soma de A + B = {s}')\r\n",
        "\r\n",
        "\r\n",
        "#main\r\n",
        "SOMA(1, 3) \r\n"
      ],
      "execution_count": null,
      "outputs": [
        {
          "output_type": "stream",
          "text": [
            "A = 1 e B = 3\n",
            "A soma de A + B = 4\n"
          ],
          "name": "stdout"
        }
      ]
    },
    {
      "cell_type": "markdown",
      "metadata": {
        "id": "xC_CPuIm9aIL"
      },
      "source": [
        "CONTADOR"
      ]
    },
    {
      "cell_type": "code",
      "metadata": {
        "colab": {
          "base_uri": "https://localhost:8080/"
        },
        "id": "p1p1DMS474rt",
        "outputId": "a1320a70-396c-41b3-a445-20dfd40834b8"
      },
      "source": [
        "def contador(*num):\r\n",
        "  tam = len(num)\r\n",
        "  print(f'recebido os números {num} e ao todo são {tam}')\r\n",
        "\r\n",
        "\r\n",
        "contador(2, 3, 4, 7)\r\n",
        "contador(1, 2, 3)\r\n",
        "contador(0, 9)"
      ],
      "execution_count": null,
      "outputs": [
        {
          "output_type": "stream",
          "text": [
            "recebido os números (2, 3, 4, 7) e ao todo são 4\n",
            "recebido os números (1, 2, 3) e ao todo são 3\n",
            "recebido os números (0, 9) e ao todo são 2\n"
          ],
          "name": "stdout"
        }
      ]
    },
    {
      "cell_type": "markdown",
      "metadata": {
        "id": "3-55qzY24Csp"
      },
      "source": [
        "Multiplicar valores da lista"
      ]
    },
    {
      "cell_type": "code",
      "metadata": {
        "id": "sVgCSprF-eM7"
      },
      "source": [
        "def dobra(lst):\r\n",
        "  pos = 0\r\n",
        "  while pos < len(lst): \r\n",
        "      lst[pos] *= 2\r\n",
        "      pos +=1\r\n",
        "\r\n",
        "\r\n"
      ],
      "execution_count": null,
      "outputs": []
    },
    {
      "cell_type": "code",
      "metadata": {
        "colab": {
          "base_uri": "https://localhost:8080/"
        },
        "id": "qv1WkT5kA8jL",
        "outputId": "97633f2c-9a55-4e4e-9349-c4716369196e"
      },
      "source": [
        "valores = [1, 2, 3, 4, 5, 6]\r\n",
        "dobra(valores)\r\n",
        "print(valores)"
      ],
      "execution_count": null,
      "outputs": [
        {
          "output_type": "stream",
          "text": [
            "[2, 4, 6, 8, 10, 12]\n"
          ],
          "name": "stdout"
        }
      ]
    }
  ]
}